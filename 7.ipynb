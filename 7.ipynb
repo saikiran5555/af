{
 "cells": [
  {
   "cell_type": "markdown",
   "id": "e984ff61",
   "metadata": {},
   "source": [
    "Leaky ReLU (Rectified Linear Unit) is a variant of the ReLU activation function. While ReLU sets all negative inputs to zero, Leaky ReLU allows a small, non-zero gradient for negative inputs, addressing the \"dying ReLU\" problem where neurons could permanently become inactive for negative inputs during training.\n",
    "\n",
    "Mathematically, Leaky ReLU is defined as:\n",
    "\n",
    "�\n",
    "(\n",
    "�\n",
    ")\n",
    "=\n",
    "{\n",
    "�\n",
    "if \n",
    "�\n",
    ">\n",
    "0\n",
    "�\n",
    "�\n",
    "if \n",
    "�\n",
    "≤\n",
    "0\n",
    "f(x)={ \n",
    "x\n",
    "αx\n",
    "​\n",
    "  \n",
    "if x>0\n",
    "if x≤0\n",
    "​\n",
    " \n",
    "Where \n",
    "�\n",
    "α is a small constant, typically a small positive value like 0.01.\n",
    "\n",
    "Here's how Leaky ReLU addresses the vanishing gradient problem:\n",
    "\n",
    "Avoiding Zero Gradient: Unlike the standard ReLU, which outputs zero for all negative inputs, Leaky ReLU provides a small, non-zero output for negative inputs, thus allowing a small gradient to propagate backward during backpropagation. This helps prevent neurons from becoming completely inactive, ensuring that they can still contribute to the learning process even for negative inputs.\n",
    "\n",
    "Maintaining Information Flow: By allowing a non-zero gradient for negative inputs, Leaky ReLU helps to maintain the flow of information during training, especially in deeper layers of the neural network. This prevents the occurrence of \"dead\" neurons, which can hinder the overall learning process and model performance.\n",
    "\n",
    "Improved Training Stability: The inclusion of a small, constant gradient for negative inputs ensures that weights and biases continue to receive updates during training, leading to more stable convergence and improved training dynamics."
   ]
  }
 ],
 "metadata": {
  "kernelspec": {
   "display_name": "Python 3 (ipykernel)",
   "language": "python",
   "name": "python3"
  },
  "language_info": {
   "codemirror_mode": {
    "name": "ipython",
    "version": 3
   },
   "file_extension": ".py",
   "mimetype": "text/x-python",
   "name": "python",
   "nbconvert_exporter": "python",
   "pygments_lexer": "ipython3",
   "version": "3.10.9"
  }
 },
 "nbformat": 4,
 "nbformat_minor": 5
}
